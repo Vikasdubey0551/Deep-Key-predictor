{
 "cells": [
  {
   "cell_type": "code",
   "execution_count": 1,
   "metadata": {},
   "outputs": [],
   "source": [
    "import os\n",
    "import glob\n",
    "import random\n",
    "import numpy as np\n",
    "import matplotlib.pyplot as plt\n",
    "import librosa.display\n",
    "%matplotlib inline"
   ]
  },
  {
   "cell_type": "code",
   "execution_count": 2,
   "metadata": {},
   "outputs": [],
   "source": [
    "def plot_chromagram(data):\n",
    "    plt.style.use('fivethirtyeight')\n",
    "    plt.figure(figsize=(15, 8))\n",
    "    librosa.display.specshow(data, y_axis='chroma', x_axis='time', cmap='coolwarm')\n",
    "    plt.colorbar()\n",
    "    plt.title('Chromagram',size=30)\n",
    "    plt.xticks(size=20)\n",
    "    plt.yticks(size=20)\n",
    "    plt.tight_layout()\n",
    "    plt.ylabel('Pitch Class',size=20)\n",
    "    plt.xlabel('Time',size=20)\n",
    "    plt.show()"
   ]
  },
  {
   "cell_type": "code",
   "execution_count": 3,
   "metadata": {},
   "outputs": [],
   "source": [
    "def binarizer(data) : \n",
    "    for i in range(0,len(data.T)):\n",
    "        if data[data[:,i].argmax(),i] !=0 : \n",
    "            data[data[:,i].argmax(),i]==1\n",
    "    data[data!=1]=0\n",
    "    return(data)"
   ]
  },
  {
   "cell_type": "code",
   "execution_count": 4,
   "metadata": {},
   "outputs": [],
   "source": [
    "def divide(data, n_samples):\n",
    "    n_subarrys=int(len(data)/n_samples)\n",
    "    data=np.array_split(data,n_subarrys)\n",
    "    return(data) "
   ]
  },
  {
   "cell_type": "code",
   "execution_count": 5,
   "metadata": {},
   "outputs": [],
   "source": [
    "n_samples=100000\n",
    "def pad_and_slice(data):\n",
    "    if len(data.T) >= n_samples:\n",
    "        data=data[:,0:n_samples]\n",
    "    else:\n",
    "        pad=n_samples-len(data.T)\n",
    "        pad_array=np.zeros((12,pad))\n",
    "        data=np.hstack((data,pad_array))\n",
    "    return(data)"
   ]
  },
  {
   "cell_type": "code",
   "execution_count": 6,
   "metadata": {},
   "outputs": [],
   "source": [
    "def preprocessing_audio_data(audio):\n",
    "    hop_length = 512 ## how much to move during fft\n",
    "    n_fft = 2048 ## fft bins\n",
    "    data=divide(audio,n_samples)\n",
    "    print(len(data))\n",
    "    complete_data=[]\n",
    "    for i in range(0,len(data)):\n",
    "        audio=data[i]\n",
    "        data1=librosa.feature.chroma_stft(audio,n_fft=n_fft, hop_length=hop_length)\n",
    "       # plot_chromagram(data) \n",
    "       # data1=binarizer(data1)\n",
    "        data1=pad_and_slice(data1) \n",
    "        complete_data.append(data1)\n",
    "    complete_data=np.array(complete_data)\n",
    "    return(complete_data)"
   ]
  },
  {
   "cell_type": "code",
   "execution_count": 7,
   "metadata": {},
   "outputs": [],
   "source": [
    "audio_files=glob.glob('audio_files/*.WAV')"
   ]
  },
  {
   "cell_type": "code",
   "execution_count": 8,
   "metadata": {},
   "outputs": [],
   "source": [
    "#audio_files=audio_files[2:3]"
   ]
  },
  {
   "cell_type": "code",
   "execution_count": 9,
   "metadata": {},
   "outputs": [
    {
     "name": "stdout",
     "output_type": "stream",
     "text": [
      "Processing file audio_files/EEW_AUDI.WAV\n",
      "4\n",
      "Processing file audio_files/A#W_AUDI.WAV\n",
      "5\n",
      "Processing file audio_files/G#2_AUDI.WAV\n",
      "18\n",
      "Processing file audio_files/E2W_AUDI.WAV\n",
      "18\n",
      "Processing file audio_files/D#W_AUDI.WAV\n",
      "4\n",
      "Processing file audio_files/C#W_AUDI.WAV\n",
      "4\n",
      "Processing file audio_files/GEW_AUDI.WAV\n",
      "4\n",
      "Processing file audio_files/B2W_AUDI.WAV\n",
      "18\n",
      "Processing file audio_files/F#W_AUDI.WAV\n",
      "4\n",
      "Processing file audio_files/G2W_AUDI.WAV\n",
      "18\n",
      "Processing file audio_files/BEW_AUDI.WAV\n",
      "5\n",
      "Processing file audio_files/F#2_AUDI.WAV\n",
      "18\n",
      "Processing file audio_files/D2W_AUDI.WAV\n",
      "15\n"
     ]
    },
    {
     "name": "stderr",
     "output_type": "stream",
     "text": [
      "/Users/dubey/.local/lib/python3.7/site-packages/librosa/core/pitch.py:146: UserWarning: Trying to estimate tuning from empty frequency set.\n",
      "  warnings.warn('Trying to estimate tuning from empty frequency set.')\n"
     ]
    },
    {
     "name": "stdout",
     "output_type": "stream",
     "text": [
      "Processing file audio_files/AEW_AUDI.WAV\n",
      "4\n",
      "Processing file audio_files/DEW_AUDI.WAV\n",
      "6\n",
      "Processing file audio_files/A2W_AUDI.WAV\n",
      "17\n",
      "Processing file audio_files/C3W_AUDI.WAV\n",
      "18\n",
      "Processing file audio_files/C#2_AUDI.WAV\n",
      "18\n",
      "Processing file audio_files/D#2_AUDI.WAV\n",
      "18\n",
      "Processing file audio_files/G#W_AUDI.WAV\n",
      "4\n",
      "Processing file audio_files/F2W_AUDI.WAV\n",
      "18\n",
      "Processing file audio_files/CEW_AUDI.WAV\n",
      "4\n",
      "Processing file audio_files/FEW_AUDI.WAV\n",
      "4\n",
      "Processing file audio_files/C2W_AUDI.WAV\n",
      "5\n",
      "Processing file audio_files/A#2_AUDI.WAV\n",
      "18\n"
     ]
    }
   ],
   "source": [
    "complete_data=[]\n",
    "for file in audio_files:\n",
    "    print('Processing file %s'%(file))\n",
    "    audio,sr=librosa.load(file,sr=22050)\n",
    "    data=preprocessing_audio_data(audio)\n",
    "    complete_data.append(data)\n",
    "complete_data=np.array(complete_data)"
   ]
  },
  {
   "cell_type": "code",
   "execution_count": 10,
   "metadata": {},
   "outputs": [],
   "source": [
    "complete_data=np.concatenate(complete_data.ravel())"
   ]
  },
  {
   "cell_type": "code",
   "execution_count": 11,
   "metadata": {},
   "outputs": [
    {
     "data": {
      "text/plain": [
       "(269, 12, 100000)"
      ]
     },
     "execution_count": 11,
     "metadata": {},
     "output_type": "execute_result"
    }
   ],
   "source": [
    "complete_data.shape"
   ]
  },
  {
   "cell_type": "markdown",
   "metadata": {},
   "source": [
    "### A : 0, A# : 1 , B: 2, C:3 , C# : 4 , D:5, D# : 6, E:7, F:8, F#:9 , G:10, G#:11  "
   ]
  },
  {
   "cell_type": "code",
   "execution_count": 12,
   "metadata": {},
   "outputs": [],
   "source": [
    "def label_generator(number,repeats):\n",
    "    if number ==0:\n",
    "        labels=np.zeros(repeats)\n",
    "    else:\n",
    "        labels=np.zeros(repeats)+number\n",
    "    return(labels)"
   ]
  },
  {
   "cell_type": "code",
   "execution_count": 13,
   "metadata": {},
   "outputs": [],
   "source": [
    "labels=[]\n",
    "\n",
    "labels.append(label_generator(7,4))\n",
    "labels.append(label_generator(1,5))\n",
    "labels.append(label_generator(11,18))\n",
    "labels.append(label_generator(7,18))\n",
    "labels.append(label_generator(6,4))\n",
    "labels.append(label_generator(4,4))\n",
    "labels.append(label_generator(10,4))\n",
    "labels.append(label_generator(2,18))\n",
    "labels.append(label_generator(9,4))\n",
    "labels.append(label_generator(10,18))\n",
    "labels.append(label_generator(2,5))\n",
    "labels.append(label_generator(9,18))\n",
    "labels.append(label_generator(5,15))\n",
    "labels.append(label_generator(0,4))\n",
    "labels.append(label_generator(5,6))\n",
    "labels.append(label_generator(0,17))\n",
    "labels.append(label_generator(3,18))\n",
    "labels.append(label_generator(4,18))\n",
    "labels.append(label_generator(6,18))\n",
    "labels.append(label_generator(11,4))\n",
    "labels.append(label_generator(8,18))\n",
    "labels.append(label_generator(3,4))\n",
    "labels.append(label_generator(8,4))\n",
    "labels.append(label_generator(3,5))\n",
    "labels.append(label_generator(1,18))\n"
   ]
  },
  {
   "cell_type": "code",
   "execution_count": 14,
   "metadata": {},
   "outputs": [],
   "source": [
    "labels=np.concatenate(np.array(labels).ravel())"
   ]
  },
  {
   "cell_type": "markdown",
   "metadata": {},
   "source": [
    "## Neural Network"
   ]
  },
  {
   "cell_type": "code",
   "execution_count": 15,
   "metadata": {},
   "outputs": [],
   "source": [
    "from sklearn.preprocessing import label_binarize\n",
    "from tensorflow.keras.models import Sequential\n",
    "from tensorflow.keras.layers import LSTM,Dense, Dropout,Flatten"
   ]
  },
  {
   "cell_type": "code",
   "execution_count": 16,
   "metadata": {},
   "outputs": [],
   "source": [
    "encoded_labels=label_binarize(labels,classes=[0,1,2,3,4,5,6,7,8,9,10,11])"
   ]
  },
  {
   "cell_type": "code",
   "execution_count": 17,
   "metadata": {},
   "outputs": [],
   "source": [
    "labels=random.Random(4).shuffle(encoded_labels)\n",
    "complete_data=random.Random(4).shuffle(complete_data)"
   ]
  },
  {
   "cell_type": "code",
   "execution_count": 22,
   "metadata": {},
   "outputs": [],
   "source": [
    "complete_data"
   ]
  },
  {
   "cell_type": "code",
   "execution_count": 19,
   "metadata": {},
   "outputs": [
    {
     "ename": "TypeError",
     "evalue": "'NoneType' object is not subscriptable",
     "output_type": "error",
     "traceback": [
      "\u001b[0;31m---------------------------------------------------------------------------\u001b[0m",
      "\u001b[0;31mTypeError\u001b[0m                                 Traceback (most recent call last)",
      "\u001b[0;32m<ipython-input-19-341c238f4aca>\u001b[0m in \u001b[0;36m<module>\u001b[0;34m\u001b[0m\n\u001b[0;32m----> 1\u001b[0;31m \u001b[0mx_train\u001b[0m\u001b[0;34m,\u001b[0m\u001b[0mx_test\u001b[0m\u001b[0;34m=\u001b[0m\u001b[0mcomplete_data\u001b[0m\u001b[0;34m[\u001b[0m\u001b[0;34m:\u001b[0m\u001b[0;34m-\u001b[0m\u001b[0;36m5\u001b[0m\u001b[0;34m]\u001b[0m\u001b[0;34m,\u001b[0m\u001b[0mcomplete_data\u001b[0m\u001b[0;34m[\u001b[0m\u001b[0;34m-\u001b[0m\u001b[0;36m5\u001b[0m\u001b[0;34m:\u001b[0m\u001b[0;34m]\u001b[0m\u001b[0;34m\u001b[0m\u001b[0;34m\u001b[0m\u001b[0m\n\u001b[0m\u001b[1;32m      2\u001b[0m \u001b[0my_train\u001b[0m\u001b[0;34m,\u001b[0m\u001b[0my_test\u001b[0m\u001b[0;34m=\u001b[0m\u001b[0mencoded_labels\u001b[0m\u001b[0;34m[\u001b[0m\u001b[0;34m:\u001b[0m\u001b[0;34m-\u001b[0m\u001b[0;36m5\u001b[0m\u001b[0;34m]\u001b[0m\u001b[0;34m,\u001b[0m\u001b[0mencoded_labels\u001b[0m\u001b[0;34m[\u001b[0m\u001b[0;34m-\u001b[0m\u001b[0;36m5\u001b[0m\u001b[0;34m:\u001b[0m\u001b[0;34m]\u001b[0m\u001b[0;34m\u001b[0m\u001b[0;34m\u001b[0m\u001b[0m\n",
      "\u001b[0;31mTypeError\u001b[0m: 'NoneType' object is not subscriptable"
     ]
    }
   ],
   "source": [
    "x_train,x_test=complete_data[:-5],complete_data[-5:]\n",
    "y_train,y_test=encoded_labels[:-5],encoded_labels[-5:]"
   ]
  },
  {
   "cell_type": "code",
   "execution_count": 118,
   "metadata": {},
   "outputs": [
    {
     "name": "stdout",
     "output_type": "stream",
     "text": [
      "Train on 264 samples\n",
      "Epoch 1/15\n",
      "264/264 - 186s - loss: 2.5047 - accuracy: 0.0795\n",
      "Epoch 2/15\n",
      "264/264 - 172s - loss: 2.4761 - accuracy: 0.0909\n",
      "Epoch 3/15\n",
      "264/264 - 177s - loss: 2.3226 - accuracy: 0.1402\n",
      "Epoch 4/15\n",
      "264/264 - 173s - loss: 2.1092 - accuracy: 0.2500\n",
      "Epoch 5/15\n",
      "264/264 - 172s - loss: 1.8998 - accuracy: 0.2955\n",
      "Epoch 6/15\n",
      "264/264 - 173s - loss: 1.6490 - accuracy: 0.4015\n",
      "Epoch 7/15\n",
      "264/264 - 174s - loss: 1.4743 - accuracy: 0.4811\n",
      "Epoch 8/15\n",
      "264/264 - 169s - loss: 1.3913 - accuracy: 0.4924\n",
      "Epoch 9/15\n",
      "264/264 - 171s - loss: 1.1015 - accuracy: 0.5833\n",
      "Epoch 10/15\n",
      "264/264 - 171s - loss: 0.9069 - accuracy: 0.6439\n",
      "Epoch 11/15\n",
      "264/264 - 170s - loss: 0.8292 - accuracy: 0.7045\n",
      "Epoch 12/15\n",
      "264/264 - 169s - loss: 0.7977 - accuracy: 0.6970\n",
      "Epoch 13/15\n",
      "264/264 - 177s - loss: 0.6511 - accuracy: 0.7765\n",
      "Epoch 14/15\n",
      "264/264 - 190s - loss: 0.4521 - accuracy: 0.8523\n",
      "Epoch 15/15\n",
      "264/264 - 169s - loss: 0.5046 - accuracy: 0.8409\n"
     ]
    },
    {
     "data": {
      "text/plain": [
       "<tensorflow.python.keras.callbacks.History at 0x12e6d0390>"
      ]
     },
     "execution_count": 118,
     "metadata": {},
     "output_type": "execute_result"
    }
   ],
   "source": [
    "neurons=64\n",
    "n_classes=12\n",
    "model=Sequential()\n",
    "model.add(LSTM(units=neurons,return_sequences=True, input_shape=(x_train.shape[1:])))\n",
    "model.add(Dropout(0.3))\n",
    "model.add(LSTM(units=neurons,return_sequences=True))\n",
    "model.add(Dropout(0.3))\n",
    "model.add(LSTM(units=neurons))\n",
    "model.add(Dense(n_classes, activation='softmax'))\n",
    "\n",
    "model.compile(optimizer='adam',loss='categorical_crossentropy',metrics=['accuracy'])\n",
    "model.fit(x_train,y_train, epochs=15, batch_size=1, verbose=2)"
   ]
  },
  {
   "cell_type": "code",
   "execution_count": 119,
   "metadata": {},
   "outputs": [],
   "source": [
    "y_pred=model.predict(x_test)"
   ]
  },
  {
   "cell_type": "code",
   "execution_count": 120,
   "metadata": {},
   "outputs": [
    {
     "data": {
      "text/plain": [
       "array([[0, 1, 0, 0, 0, 0, 0, 0, 0, 0, 0, 0],\n",
       "       [0, 1, 0, 0, 0, 0, 0, 0, 0, 0, 0, 0],\n",
       "       [0, 1, 0, 0, 0, 0, 0, 0, 0, 0, 0, 0],\n",
       "       [0, 1, 0, 0, 0, 0, 0, 0, 0, 0, 0, 0],\n",
       "       [0, 1, 0, 0, 0, 0, 0, 0, 0, 0, 0, 0]])"
      ]
     },
     "execution_count": 120,
     "metadata": {},
     "output_type": "execute_result"
    }
   ],
   "source": [
    "y_test"
   ]
  },
  {
   "cell_type": "code",
   "execution_count": 123,
   "metadata": {},
   "outputs": [],
   "source": [
    "\n",
    "b = np.zeros_like(y_pred)\n",
    "b[np.arange(len(y_pred)), y_pred.argmax(1)] = 1"
   ]
  },
  {
   "cell_type": "code",
   "execution_count": 124,
   "metadata": {},
   "outputs": [
    {
     "data": {
      "text/plain": [
       "array([[1., 0., 0., 0., 0., 0., 0., 0., 0., 0., 0., 0.],\n",
       "       [0., 0., 0., 0., 0., 0., 0., 0., 0., 1., 0., 0.],\n",
       "       [0., 0., 0., 0., 0., 0., 0., 0., 0., 1., 0., 0.],\n",
       "       [1., 0., 0., 0., 0., 0., 0., 0., 0., 0., 0., 0.],\n",
       "       [0., 0., 0., 0., 0., 0., 0., 0., 0., 0., 0., 1.]], dtype=float32)"
      ]
     },
     "execution_count": 124,
     "metadata": {},
     "output_type": "execute_result"
    }
   ],
   "source": [
    "b"
   ]
  },
  {
   "cell_type": "code",
   "execution_count": null,
   "metadata": {},
   "outputs": [],
   "source": []
  }
 ],
 "metadata": {
  "kernelspec": {
   "display_name": "Python 3",
   "language": "python",
   "name": "python3"
  },
  "language_info": {
   "codemirror_mode": {
    "name": "ipython",
    "version": 3
   },
   "file_extension": ".py",
   "mimetype": "text/x-python",
   "name": "python",
   "nbconvert_exporter": "python",
   "pygments_lexer": "ipython3",
   "version": "3.7.4"
  }
 },
 "nbformat": 4,
 "nbformat_minor": 2
}
